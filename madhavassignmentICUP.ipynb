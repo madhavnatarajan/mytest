{
 "cells": [
  {
   "cell_type": "code",
   "execution_count": 19,
   "metadata": {},
   "outputs": [],
   "source": [
    "import pandas as pd\n",
    "import numpy as np\n",
    "import matplotlib.pyplot as plt\n",
    "%matplotlib inline"
   ]
  },
  {
   "cell_type": "code",
   "execution_count": 54,
   "metadata": {},
   "outputs": [
    {
     "data": {
      "text/html": [
       "<div>\n",
       "<style scoped>\n",
       "    .dataframe tbody tr th:only-of-type {\n",
       "        vertical-align: middle;\n",
       "    }\n",
       "\n",
       "    .dataframe tbody tr th {\n",
       "        vertical-align: top;\n",
       "    }\n",
       "\n",
       "    .dataframe thead th {\n",
       "        text-align: right;\n",
       "    }\n",
       "</style>\n",
       "<table border=\"1\" class=\"dataframe\">\n",
       "  <thead>\n",
       "    <tr style=\"text-align: right;\">\n",
       "      <th></th>\n",
       "      <th>Year</th>\n",
       "      <th>Month</th>\n",
       "      <th>New</th>\n",
       "      <th>Used</th>\n",
       "      <th>Total Sales New</th>\n",
       "      <th>Total Sales Used</th>\n",
       "    </tr>\n",
       "  </thead>\n",
       "  <tbody>\n",
       "    <tr>\n",
       "      <th>0</th>\n",
       "      <td>2002</td>\n",
       "      <td>JAN</td>\n",
       "      <td>31106</td>\n",
       "      <td>49927</td>\n",
       "      <td>755015820</td>\n",
       "      <td>386481929</td>\n",
       "    </tr>\n",
       "    <tr>\n",
       "      <th>1</th>\n",
       "      <td>2002</td>\n",
       "      <td>FEB</td>\n",
       "      <td>27520</td>\n",
       "      <td>50982</td>\n",
       "      <td>664454223</td>\n",
       "      <td>361353242</td>\n",
       "    </tr>\n",
       "    <tr>\n",
       "      <th>2</th>\n",
       "      <td>2002</td>\n",
       "      <td>MAR</td>\n",
       "      <td>34225</td>\n",
       "      <td>58794</td>\n",
       "      <td>805666244</td>\n",
       "      <td>419385387</td>\n",
       "    </tr>\n",
       "    <tr>\n",
       "      <th>3</th>\n",
       "      <td>2002</td>\n",
       "      <td>APR</td>\n",
       "      <td>36452</td>\n",
       "      <td>59817</td>\n",
       "      <td>846368297</td>\n",
       "      <td>433061150</td>\n",
       "    </tr>\n",
       "    <tr>\n",
       "      <th>4</th>\n",
       "      <td>2002</td>\n",
       "      <td>MAY</td>\n",
       "      <td>37359</td>\n",
       "      <td>60577</td>\n",
       "      <td>855005784</td>\n",
       "      <td>442569410</td>\n",
       "    </tr>\n",
       "  </tbody>\n",
       "</table>\n",
       "</div>"
      ],
      "text/plain": [
       "   Year  Month     New   Used  Total Sales New  Total Sales Used\n",
       "0   2002    JAN  31106  49927        755015820         386481929\n",
       "1   2002    FEB  27520  50982        664454223         361353242\n",
       "2   2002    MAR  34225  58794        805666244         419385387\n",
       "3   2002    APR  36452  59817        846368297         433061150\n",
       "4   2002    MAY  37359  60577        855005784         442569410"
      ]
     },
     "execution_count": 54,
     "metadata": {},
     "output_type": "execute_result"
    }
   ],
   "source": [
    "#Load the dataset\n",
    "dataset=pd.read_csv('MVA_Vehicle_Sales_Counts_by_Month_for_Calendar_Year_2002_-_2019_up_to_August.csv')\n",
    "dataset.head()"
   ]
  },
  {
   "cell_type": "markdown",
   "metadata": {},
   "source": [
    "## 2.Display the average count of new vehicles sold per month (Consider from 2002 Jan to 2019 Aug)"
   ]
  },
  {
   "cell_type": "code",
   "execution_count": 4,
   "metadata": {},
   "outputs": [
    {
     "data": {
      "text/plain": [
       "29041.825471698114"
      ]
     },
     "execution_count": 4,
     "metadata": {},
     "output_type": "execute_result"
    }
   ],
   "source": [
    " dataset[\"New\"].mean()"
   ]
  },
  {
   "cell_type": "markdown",
   "metadata": {},
   "source": [
    "## 3. Display the quarter where total sales of old cars is maximum"
   ]
  },
  {
   "cell_type": "markdown",
   "metadata": {},
   "source": [
    "step1: using the lambda function to merge month and year column and adding it as another column called q. this is done because the datetime accepts single column as input\n",
    "step2:using PeriodIndex and datetime to create another column called qtr which had years and quarters deatils\n",
    "step3:using groupby to group all quarters and evaluate the sum of all the columns\n",
    "step4:filtering out according to given condition by using .max()"
   ]
  },
  {
   "cell_type": "code",
   "execution_count": 119,
   "metadata": {},
   "outputs": [
    {
     "name": "stdout",
     "output_type": "stream",
     "text": [
      "69    2019Q2\n",
      "Name: qtr, dtype: period[Q-DEC]\n"
     ]
    }
   ],
   "source": [
    "#\n",
    "\n",
    "dataset[\"q\"]=dataset.apply(lambda x:'%s-%s' %(x['Month '],x['Year ']),axis=1)\n",
    "dataset['qtr']=pd.PeriodIndex(pd.to_datetime(dataset.q), freq='Q')\n",
    "#print(dataset)\n",
    "quarter=dataset.groupby('qtr').sum().reset_index()\n",
    "print(quarter[quarter['Total Sales Used']==quarter['Total Sales Used'].max()].qtr)\n",
    "#quarter['Total Sales Used','qtr'].max()"
   ]
  },
  {
   "cell_type": "markdown",
   "metadata": {},
   "source": [
    "## 4.Plot the graph to display total sales in dollars (old+new) on a yearly basis"
   ]
  },
  {
   "cell_type": "code",
   "execution_count": 65,
   "metadata": {},
   "outputs": [
    {
     "data": {
      "image/png": "[encoded data removed]",
      "text/plain": [
       "<Figure size 432x288 with 1 Axes>"
      ]
     },
     "metadata": {
      "needs_background": "light"
     },
     "output_type": "display_data"
    }
   ],
   "source": [
    "dataset['total sales'] = dataset['Total Sales New'] + dataset['Total Sales Used']\n",
    "dataset.columns\n",
    "grouped = dataset.groupby('Year ').sum().reset_index().plot(kind='bar',x='Year ',y='total sales')\n",
    "#reset index is to get the year column shifted back by which is shifted down when operated by the groupby\n",
    "\n",
    "plt.show()\n"
   ]
  },
  {
   "cell_type": "markdown",
   "metadata": {},
   "source": [
    "## 5.Plot the graph to display the number of new cars sold in 2019 VS number of old cars sold in 2019 on monthly basis\n"
   ]
  },
  {
   "cell_type": "code",
   "execution_count": 82,
   "metadata": {},
   "outputs": [
    {
     "data": {
      "image/png": "[encoded data removed]",
      "text/plain": [
       "<Figure size 432x288 with 1 Axes>"
      ]
     },
     "metadata": {
      "needs_background": "light"
     },
     "output_type": "display_data"
    },
    {
     "data": {
      "text/plain": [
       "Index(['Year ', 'Month ', 'New', 'Used', 'Total Sales New', 'Total Sales Used',\n",
       "       'total sales'],\n",
       "      dtype='object')"
      ]
     },
     "execution_count": 82,
     "metadata": {},
     "output_type": "execute_result"
    }
   ],
   "source": [
    "is_2019=dataset['Year ']==2019 #filtering by boolean values returns True or False values \n",
    "f=dataset[is_2019] #filters all the false values \n",
    "#print(f)\n",
    "f.plot(kind='bar',x='Month ',y=['New','Used'])\n",
    "plt.show()\n",
    "f.columns\n"
   ]
  },
  {
   "cell_type": "code",
   "execution_count": null,
   "metadata": {},
   "outputs": [],
   "source": [
    "\n"
   ]
  }
 ],
 "metadata": {
  "kernelspec": {
   "display_name": "Python 3",
   "language": "python",
   "name": "python3"
  },
  "language_info": {
   "codemirror_mode": {
    "name": "ipython",
    "version": 3
   },
   "file_extension": ".py",
   "mimetype": "text/x-python",
   "name": "python",
   "nbconvert_exporter": "python",
   "pygments_lexer": "ipython3",
   "version": "3.7.3"
  }
 },
 "nbformat": 4,
 "nbformat_minor": 2
}
